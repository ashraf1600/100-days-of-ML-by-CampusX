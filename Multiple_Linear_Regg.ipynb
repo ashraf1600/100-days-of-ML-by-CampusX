{
 "cells": [
  {
   "cell_type": "code",
   "execution_count": 11,
   "id": "cddab393-5459-4c6b-838e-805bf9946873",
   "metadata": {},
   "outputs": [
    {
     "name": "stdout",
     "output_type": "stream",
     "text": [
      "      price  area  bedrooms  bathrooms  stories mainroad guestroom basement  \\\n",
      "0  13300000  7420         4          2        3      yes        no       no   \n",
      "1  12250000  8960         4          4        4      yes        no       no   \n",
      "2  12250000  9960         3          2        2      yes        no      yes   \n",
      "3  12215000  7500         4          2        2      yes        no      yes   \n",
      "4  11410000  7420         4          1        2      yes       yes      yes   \n",
      "\n",
      "  hotwaterheating airconditioning  parking prefarea furnishingstatus  \n",
      "0              no             yes        2      yes        furnished  \n",
      "1              no             yes        3       no        furnished  \n",
      "2              no              no        2      yes   semi-furnished  \n",
      "3              no             yes        3      yes        furnished  \n",
      "4              no             yes        2       no        furnished  \n"
     ]
    }
   ],
   "source": [
    "import pandas as pd\n",
    "from sklearn.model_selection import train_test_split\n",
    "from sklearn.linear_model import LinearRegression\n",
    "from sklearn.metrics import r2_score, mean_squared_error\n",
    "import matplotlib.pyplot as plt\n",
    "from sklearn.metrics import mean_squared_error, mean_absolute_error\n",
    "\n",
    "data = pd.read_csv(\"Housing.csv\")\n",
    "print(data.head())"
   ]
  },
  {
   "cell_type": "code",
   "execution_count": 14,
   "id": "ff732c82-91ef-45a6-aec9-785643d1f9cc",
   "metadata": {},
   "outputs": [
    {
     "name": "stdout",
     "output_type": "stream",
     "text": [
      "      price  area  bedrooms  bathrooms  stories mainroad guestroom basement  \\\n",
      "0  13300000  7420         4          2        3      yes        no       no   \n",
      "1  12250000  8960         4          4        4      yes        no       no   \n",
      "2  12250000  9960         3          2        2      yes        no      yes   \n",
      "3  12215000  7500         4          2        2      yes        no      yes   \n",
      "4  11410000  7420         4          1        2      yes       yes      yes   \n",
      "\n",
      "  hotwaterheating airconditioning  parking prefarea furnishingstatus  \n",
      "0              no             yes        2      yes        furnished  \n",
      "1              no             yes        3       no        furnished  \n",
      "2              no              no        2      yes   semi-furnished  \n",
      "3              no             yes        3      yes        furnished  \n",
      "4              no             yes        2       no        furnished  \n"
     ]
    }
   ],
   "source": [
    "data = pd.read_csv(\"Housing.csv\")\n",
    "print(data.head())\n",
    "X = data[[\"area\" , \"bedrooms\" , \"parking\"]]\n",
    "Y = data[\"price\"]\n",
    "X_train, X_test, y_train, y_test = train_test_split(X, Y, test_size=0.2, random_state=1)\n",
    "model = LinearRegression()\n",
    "model.fit(X_train, y_train)\n",
    "y_pred = model.predict(X_test)\n",
    "\n",
    "\n",
    "\n"
   ]
  },
  {
   "cell_type": "code",
   "execution_count": 17,
   "id": "29cdfa98-184a-4878-a74b-335bf989e8e3",
   "metadata": {},
   "outputs": [
    {
     "name": "stdout",
     "output_type": "stream",
     "text": [
      "R² score: 0.42364636543259226\n",
      "Mean Squared Error: 2420221593559.4116\n"
     ]
    }
   ],
   "source": [
    "print(\"R² score:\", r2_score(y_test, y_pred))\n",
    "print(\"Mean Squared Error:\", mean_squared_error(y_test, y_pred))\n",
    "\n"
   ]
  },
  {
   "cell_type": "code",
   "execution_count": 21,
   "id": "8f703293-6170-42c3-86c6-9c713866a8c8",
   "metadata": {},
   "outputs": [
    {
     "name": "stdout",
     "output_type": "stream",
     "text": [
      "[5949083.46535188 7532273.36920331 7408824.5169809  4911526.59367355\n",
      " 4978345.72631854 3267502.82165654 3565664.1786654  6237765.0602524\n",
      " 2959106.8248335  4424946.24313055 4041209.78494182 5025563.55922964\n",
      " 4356413.7993921  4657201.67413546 6193173.7450758  6774944.63914682\n",
      " 4343552.64184343 4089892.14651795 5650922.10834301 3284293.27037246\n",
      " 3627343.37803001 5017797.10821476 3955499.00352215 3801301.00511064\n",
      " 3689022.57739461 6433037.29816038 3483425.24617926 6175995.40739459\n",
      " 5103462.66288782 3446645.60876415 4890966.86055202 5369025.88237432\n",
      " 3379826.47611916 5137728.88475705 6423442.756037   3017359.40201119\n",
      " 5099235.93624848 3375143.98507251 4493478.686869   5299122.7897611\n",
      " 5088956.06968771 4325619.4264564  3811580.87167141 5085529.44750079\n",
      " 6832397.11187209 3524499.48567573 4881532.32519027 3966578.97453534\n",
      " 2890574.38109505 4030884.69163445 4644340.5165868  4216652.84091226\n",
      " 3233236.59978731 4198789.17879366 5505222.78995678 4428372.86531747\n",
      " 3061905.49044118 4819053.02137325 4843084.60342831 4184557.37237022\n",
      " 4767608.46182281 5953310.19199122 3281209.31040423 4952736.51340983\n",
      " 4137109.97942905 3031065.89075888 4531971.63537757 4417338.12105088\n",
      " 4344351.06846943 3683837.41736763 4772793.62184979 4973205.79303816\n",
      " 5205461.22404308 3267502.82165654 5189128.21756088 2779551.82223876\n",
      " 3904945.00191734 6774944.63914682 5960163.43636507 3226383.35541346\n",
      " 4753901.97307512 3914379.53727908 5333046.34941163 4921806.46023432\n",
      " 5517283.84305303 4253615.13378442 3739621.80574603 3123584.68980579\n",
      " 5507849.30769129 4760845.67094216 3839793.95361921 5542115.52956051\n",
      " 3671089.36200758 5775125.83827125 3733523.43907801 4849092.51660313\n",
      " 6124641.30133735 5148008.75131781 6053391.88637119 5774370.96056543\n",
      " 3353168.3763296  6467303.52002961 3780741.2719891  4078857.40225137\n",
      " 4114836.93521405 4356413.7993921  6978579.87684029 5117924.02934133\n",
      " 4801874.68369203]\n"
     ]
    }
   ],
   "source": [
    "print(y_pred)"
   ]
  },
  {
   "cell_type": "code",
   "execution_count": 24,
   "id": "882ea8f6-2f12-4576-b7eb-9bf9ba39db15",
   "metadata": {},
   "outputs": [
    {
     "data": {
      "image/png": "[encoded data removed]",
      "text/plain": [
       "<Figure size 640x480 with 1 Axes>"
      ]
     },
     "metadata": {},
     "output_type": "display_data"
    }
   ],
   "source": [
    "plt.scatter(y_test, y_pred)\n",
    "plt.xlabel(\"Actual Price\")\n",
    "plt.ylabel(\"Predicted Price\")\n",
    "plt.title(\"Actual vs Predicted Prices\")\n",
    "plt.show()\n"
   ]
  },
  {
   "cell_type": "code",
   "execution_count": 27,
   "id": "e1bdb439-bca2-4eee-b395-18c56e4dd426",
   "metadata": {},
   "outputs": [
    {
     "name": "stdout",
     "output_type": "stream",
     "text": [
      "Mean Squared Error (MSE): 2420221593559.4116\n",
      "Mean Absolute Error (MAE): 1116674.862982169\n"
     ]
    }
   ],
   "source": [
    "# Assuming y_test are true values and y_pred are predicted values\n",
    "mse = mean_squared_error(y_test, y_pred)\n",
    "mae = mean_absolute_error(y_test, y_pred)\n",
    "\n",
    "print(\"Mean Squared Error (MSE):\", mse)\n",
    "print(\"Mean Absolute Error (MAE):\", mae)\n"
   ]
  },
  {
   "cell_type": "code",
   "execution_count": null,
   "id": "865d9f18-d101-40f1-bd3c-ea4e2ef4b62f",
   "metadata": {},
   "outputs": [],
   "source": []
  }
 ],
 "metadata": {
  "kernelspec": {
   "display_name": "Python 3 (ipykernel)",
   "language": "python",
   "name": "python3"
  },
  "language_info": {
   "codemirror_mode": {
    "name": "ipython",
    "version": 3
   },
   "file_extension": ".py",
   "mimetype": "text/x-python",
   "name": "python",
   "nbconvert_exporter": "python",
   "pygments_lexer": "ipython3",
   "version": "3.12.4"
  }
 },
 "nbformat": 4,
 "nbformat_minor": 5
}
