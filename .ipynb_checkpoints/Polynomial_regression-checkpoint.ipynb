{
 "cells": [
  {
   "cell_type": "code",
   "execution_count": null,
   "id": "e2fa641f-206a-496a-a026-21e0c580c171",
   "metadata": {},
   "outputs": [],
   "source": [
    "import numpy as np\n",
    "import matplotlib.pyplot as plt\n",
    "from sklearn.preprocessing import PolynomialFeatures\n",
    "from sklearn.linear_model import LinearRegression\n",
    "\n",
    "# Data\n",
    "x = [1,2,3,5,6,7,8,9,10,12,13,14,15,16,18,19,21,22]\n",
    "y = [100,90,80,60,60,55,60,65,70,70,75,76,78,79,90,99,99,100]\n",
    "\n",
    "# Convert to numpy array and reshape x\n",
    "x = np.array(x).reshape(-1, 1)\n",
    "y = np.array(y)\n",
    "\n",
    "# Transform x to polynomial features (degree 3)\n",
    "poly = PolynomialFeatures(degree=3)\n",
    "x_poly = poly.fit_transform(x)\n",
    "\n",
    "# Train the model\n",
    "model = LinearRegression()\n",
    "model.fit(x_poly, y)\n",
    "\n",
    "# Generate x values for prediction\n",
    "x_line = np.linspace(1, 22, 100).reshape(-1, 1)\n",
    "x_line_poly = poly.transform(x_line)\n",
    "y_line = model.predict(x_line_poly)\n",
    "\n",
    "# Plot\n",
    "plt.scatter(x, y)\n",
    "plt.plot(x_line, y_line, color='red')\n",
    "plt.title(\"Polynomial Regression with Scikit-Learn\")\n",
    "plt.xlabel(\"x\")\n",
    "plt.ylabel(\"y\")\n",
    "plt.show()\n"
   ]
  }
 ],
 "metadata": {
  "kernelspec": {
   "display_name": "Python 3 (ipykernel)",
   "language": "python",
   "name": "python3"
  },
  "language_info": {
   "codemirror_mode": {
    "name": "ipython",
    "version": 3
   },
   "file_extension": ".py",
   "mimetype": "text/x-python",
   "name": "python",
   "nbconvert_exporter": "python",
   "pygments_lexer": "ipython3",
   "version": "3.12.4"
  }
 },
 "nbformat": 4,
 "nbformat_minor": 5
}
